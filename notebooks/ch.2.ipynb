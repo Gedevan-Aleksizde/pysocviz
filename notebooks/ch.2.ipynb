{
 "cells": [
  {
   "cell_type": "raw",
   "metadata": {},
   "source": [
    "---\n",
    "title: \"Ch.2\"\n",
    "format:\n",
    "    pdf:\n",
    "        pdf-engine: xelatex\n",
    "        keep-tex: true\n",
    "    html:\n",
    "        code-fold: true\n",
    "        theme: default\n",
    "crossref:\n",
    "    ref-hyperlink: true\n",
    "jupyter: python3\n",
    "---"
   ]
  },
  {
   "cell_type": "markdown",
   "metadata": {},
   "source": [
    "# Ch. 2"
   ]
  },
  {
   "cell_type": "code",
   "execution_count": 1,
   "metadata": {
    "ExecuteTime": {
     "end_time": "2021-08-02T09:39:45.800577Z",
     "start_time": "2021-08-02T09:39:44.422272Z"
    },
    "lang": "en"
   },
   "outputs": [],
   "source": [
    "# minimal imports\n",
    "import pandas as pd\n",
    "import numpy as np\n",
    "from plotnine import *\n",
    "import plotnine as p9\n",
    "\n",
    "# dataset packages\n",
    "from gapminder import gapminder\n",
    "\n",
    "p9.options.figure_size = (5, 5)\n",
    "theme_set(theme_minimal())"
   ]
  },
  {
   "cell_type": "markdown",
   "metadata": {},
   "source": [
    "## Fig. 2.6"
   ]
  },
  {
   "cell_type": "code",
   "execution_count": 3,
   "metadata": {
    "ExecuteTime": {
     "end_time": "2021-08-02T09:39:46.552625Z",
     "start_time": "2021-08-02T09:39:46.245062Z"
    }
   },
   "outputs": [
    {
     "data": {
      "image/png": "[encoded data removed]"
     },
     "metadata": {
      "image/png": {
       "height": 180,
       "width": 180
      }
     },
     "output_type": "display_data"
    }
   ],
   "source": [
    "p = ggplot(data=gapminder, mapping=aes(x='gdpPercap', y='lifeExp'))\n",
    "p + geom_point()\n",
    "\n",
    "p + geom_point() + theme(legend_title_position=\"right\")"
   ]
  },
  {
   "cell_type": "markdown",
   "metadata": {},
   "source": [
    "**ONLY this plot in this chapter**\n",
    "\n",
    "If you are frustrated by the trailing string like `<ggplot: (XXXXX)>`, you may use `.draw();` like the following"
   ]
  },
  {
   "cell_type": "code",
   "execution_count": 4,
   "metadata": {
    "ExecuteTime": {
     "end_time": "2021-08-02T09:40:17.246030Z",
     "start_time": "2021-08-02T09:40:16.911396Z"
    }
   },
   "outputs": [],
   "source": [
    "(\n",
    "  ggplot(\n",
    "    data=gapminder,\n",
    "    mapping=aes(x='gdpPercap', y='lifeExp')\n",
    "  ) + geom_point(\n",
    "  ) + labs(title=\"aho\"\n",
    "  ) + theme(legend_title_position=\"right\")\n",
    ").draw();"
   ]
  },
  {
   "cell_type": "markdown",
   "metadata": {},
   "source": [
    "If you hate such line breaking like the above, you can use `+=` operator"
   ]
  },
  {
   "cell_type": "code",
   "execution_count": 6,
   "metadata": {},
   "outputs": [],
   "source": [
    "g = ggplot(\n",
    "    data=gapminder,\n",
    "    mapping=aes(x='gdpPercap', y='lifeExp')\n",
    "  )\n",
    "g += geom_point()\n",
    "g += labs(title=\"aho\")\n",
    "g += theme(legend_title_position=\"right\")\n",
    "g.draw();"
   ]
  }
 ],
 "metadata": {
  "hide_input": false,
  "kernelspec": {
   "display_name": "Python 3 (ipykernel)",
   "language": "python",
   "name": "python3"
  },
  "language_info": {
   "codemirror_mode": {
    "name": "ipython",
    "version": 3
   },
   "file_extension": ".py",
   "mimetype": "text/x-python",
   "name": "python",
   "nbconvert_exporter": "python",
   "pygments_lexer": "ipython3",
   "version": "3.9.10"
  },
  "latex_envs": {
   "LaTeX_envs_menu_present": true,
   "autoclose": false,
   "autocomplete": true,
   "bibliofile": "biblio.bib",
   "cite_by": "apalike",
   "current_citInitial": 1,
   "eqLabelWithNumbers": true,
   "eqNumInitial": 1,
   "hotkeys": {
    "equation": "Ctrl-E",
    "itemize": "Ctrl-I"
   },
   "labels_anchors": false,
   "latex_user_defs": false,
   "report_style_numbering": false,
   "user_envs_cfg": false
  },
  "nbTranslate": {
   "displayLangs": [
    "ja"
   ],
   "hotkey": "alt-t",
   "langInMainMenu": true,
   "sourceLang": "en",
   "targetLang": "ja",
   "useGoogleTranslate": true
  },
  "varInspector": {
   "cols": {
    "lenName": 16,
    "lenType": 16,
    "lenVar": 40
   },
   "kernels_config": {
    "python": {
     "delete_cmd_postfix": "",
     "delete_cmd_prefix": "del ",
     "library": "var_list.py",
     "varRefreshCmd": "print(var_dic_list())"
    },
    "r": {
     "delete_cmd_postfix": ") ",
     "delete_cmd_prefix": "rm(",
     "library": "var_list.r",
     "varRefreshCmd": "cat(var_dic_list()) "
    }
   },
   "types_to_exclude": [
    "module",
    "function",
    "builtin_function_or_method",
    "instance",
    "_Feature"
   ],
   "window_display": false
  }
 },
 "nbformat": 4,
 "nbformat_minor": 2
}
